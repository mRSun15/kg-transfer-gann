{
 "cells": [
  {
   "cell_type": "code",
   "execution_count": 2,
   "metadata": {
    "collapsed": true
   },
   "outputs": [],
   "source": [
    "import json"
   ]
  },
  {
   "cell_type": "code",
   "execution_count": 38,
   "metadata": {},
   "outputs": [],
   "source": [
    "wiki_relation_map = json.load(open(\"WikipediaWikidataDistantSupervisionAnnotations.v1.0/en.json\", 'r'))\n",
    "wiki_relation_map['P0'] = 'NA'"
   ]
  },
  {
   "cell_type": "code",
   "execution_count": 4,
   "metadata": {},
   "outputs": [
    {
     "name": "stdout",
     "output_type": "stream",
     "text": [
      "P36 capital\n",
      "P1376 capital of\n",
      "P2226 market capitalization\n",
      "P2663 tier 1 capital ratio (CETI)\n"
     ]
    }
   ],
   "source": [
    "for (id, relation) in wiki_relation_map.items():\n",
    "    if \"capital\" in relation:\n",
    "        print(id, relation)"
   ]
  },
  {
   "cell_type": "code",
   "execution_count": 6,
   "metadata": {},
   "outputs": [],
   "source": [
    "nyt_relation = {}\n",
    "with open(\"data/nyt/relation2id.txt\", 'r') as f:\n",
    "    for line in f.readlines():\n",
    "        line = line.strip('\\n')\n",
    "        if line[0] == '/':\n",
    "            items = str.split(line, '/')\n",
    "            items = items[-1].split(' ')\n",
    "            items[-2] = items[-2].replace('_',' ')\n",
    "            if items[-2][-1] == 's':\n",
    "                items[-2] = items[-2][:-1]\n",
    "            if items[-2] in nyt_relation:\n",
    "                nyt_relation[items[-2]].append(items[-1])\n",
    "            else:\n",
    "                nyt_relation[items[-2]] = [items[-1]]\n",
    "        else:\n",
    "            items = str.split(line, ' ')\n",
    "            nyt_relation[items[0]] = [items[1]]"
   ]
  },
  {
   "cell_type": "code",
   "execution_count": 30,
   "metadata": {
    "scrolled": true
   },
   "outputs": [
    {
     "data": {
      "text/plain": [
       "{'NA': ['0'],\n",
       " 'administrative capital': ['4'],\n",
       " 'administrative division': ['49'],\n",
       " 'advisor': ['31'],\n",
       " 'capital': ['2', '3', '10', '12', '15', '26', '27', '41', '44', '47'],\n",
       " 'children': ['50'],\n",
       " 'companies advised': ['20'],\n",
       " 'company': ['29'],\n",
       " 'contain': ['48'],\n",
       " 'country': ['21', '24'],\n",
       " 'county seat': ['13'],\n",
       " 'ethnicity': ['33'],\n",
       " 'featured film location': ['42'],\n",
       " 'featured in film': ['51'],\n",
       " 'founder': ['6'],\n",
       " 'geographic distribution': ['35'],\n",
       " 'included in group': ['25'],\n",
       " 'interred here': ['43'],\n",
       " 'judicial capital': ['19'],\n",
       " 'languages spoken': ['7'],\n",
       " 'legislative capital': ['16'],\n",
       " 'location': ['17', '22', '38', '39', '46', '52'],\n",
       " 'major shareholder': ['37'],\n",
       " 'member': ['11'],\n",
       " 'nationality': ['28'],\n",
       " 'neighborhood of': ['1'],\n",
       " 'owner': ['32'],\n",
       " 'parent company': ['40'],\n",
       " 'people with this profession': ['14'],\n",
       " 'place founded': ['23'],\n",
       " 'place lived': ['36'],\n",
       " 'place of birth': ['8'],\n",
       " 'place of burial': ['34'],\n",
       " 'place of death': ['9'],\n",
       " 'profession': ['45'],\n",
       " 'religion': ['18'],\n",
       " 'shopping centers owned': ['30'],\n",
       " 'states provinces within': ['5']}"
      ]
     },
     "execution_count": 30,
     "metadata": {},
     "output_type": "execute_result"
    }
   ],
   "source": [
    "nyt_relation"
   ]
  },
  {
   "cell_type": "code",
   "execution_count": 34,
   "metadata": {
    "collapsed": true
   },
   "outputs": [],
   "source": [
    "file_list = [\"held-out\", \"training\", \"validation\"]\n",
    "wiki_relation = {}\n",
    "for file in file_list:\n",
    "    with open(\"WikipediaWikidataDistantSupervisionAnnotations.v1.0/enwiki-20160501/semantic-graphs-filtered-\"+file+\".02_06.json\") as f:\n",
    "        wikidata_corpus = json.load(f)\n",
    "    for data in wikidata_corpus:\n",
    "        relations = data['edgeSet']\n",
    "        for relation in relations:\n",
    "            relation_id = relation['kbID']\n",
    "            if relation_id == 'P0':\n",
    "                relation_name = 'NA'\n",
    "            else:\n",
    "                relation_name = wiki_relation_map[relation_id]\n",
    "            if relation_name in wiki_relation:\n",
    "                wiki_relation[relation_name] += 1\n",
    "            else:\n",
    "                wiki_relation[relation_name] = 1"
   ]
  },
  {
   "cell_type": "code",
   "execution_count": null,
   "metadata": {
    "collapsed": true
   },
   "outputs": [],
   "source": []
  },
  {
   "cell_type": "code",
   "execution_count": 9,
   "metadata": {},
   "outputs": [
    {
     "data": {
      "text/plain": [
       "352"
      ]
     },
     "execution_count": 9,
     "metadata": {},
     "output_type": "execute_result"
    }
   ],
   "source": [
    "len(wiki_relation)"
   ]
  },
  {
   "cell_type": "code",
   "execution_count": 9,
   "metadata": {},
   "outputs": [
    {
     "data": {
      "text/plain": [
       "38"
      ]
     },
     "execution_count": 9,
     "metadata": {},
     "output_type": "execute_result"
    }
   ],
   "source": [
    "len(nyt_relation)"
   ]
  },
  {
   "cell_type": "code",
   "execution_count": 39,
   "metadata": {},
   "outputs": [],
   "source": [
    "import pickle\n",
    "inverse_wiki = {}\n",
    "for (key, relation) in wiki_relation_map.items():\n",
    "    inverse_wiki[relation] = key\n",
    "keys = wiki_relation.keys() & nyt_relation.keys()\n",
    "common_relations = {}\n",
    "relation_id = 0\n",
    "for relation in keys:\n",
    "    common_relations[relation] = [relation_id, inverse_wiki[relation], nyt_relation[relation]]\n",
    "    relation_id += 1\n",
    "pickle.dump(common_relations, open('data/common_relations.pkl','wb'))"
   ]
  },
  {
   "cell_type": "code",
   "execution_count": 40,
   "metadata": {},
   "outputs": [
    {
     "data": {
      "text/plain": [
       "{'NA': [3, 'P0', ['0']],\n",
       " 'capital': [2,\n",
       "  'P36',\n",
       "  ['2', '3', '10', '12', '15', '26', '27', '41', '44', '47']],\n",
       " 'country': [6, 'P17', ['21', '24']],\n",
       " 'founder': [7, 'P112', ['6']],\n",
       " 'location': [8, 'P276', ['17', '22', '38', '39', '46', '52']],\n",
       " 'place of birth': [0, 'P19', ['8']],\n",
       " 'place of burial': [1, 'P119', ['34']],\n",
       " 'place of death': [4, 'P20', ['9']],\n",
       " 'religion': [5, 'P140', ['18']]}"
      ]
     },
     "execution_count": 40,
     "metadata": {},
     "output_type": "execute_result"
    }
   ],
   "source": [
    "common_relations"
   ]
  },
  {
   "cell_type": "code",
   "execution_count": null,
   "metadata": {
    "collapsed": true
   },
   "outputs": [],
   "source": []
  },
  {
   "cell_type": "code",
   "execution_count": null,
   "metadata": {
    "collapsed": true
   },
   "outputs": [],
   "source": []
  },
  {
   "cell_type": "code",
   "execution_count": null,
   "metadata": {
    "collapsed": true
   },
   "outputs": [],
   "source": []
  },
  {
   "cell_type": "code",
   "execution_count": null,
   "metadata": {
    "collapsed": true
   },
   "outputs": [],
   "source": []
  },
  {
   "cell_type": "code",
   "execution_count": null,
   "metadata": {
    "collapsed": true
   },
   "outputs": [],
   "source": []
  },
  {
   "cell_type": "code",
   "execution_count": 61,
   "metadata": {},
   "outputs": [
    {
     "data": {
      "text/plain": [
       "{'NA',\n",
       " 'capital',\n",
       " 'country',\n",
       " 'location',\n",
       " 'place of birth',\n",
       " 'place of burial',\n",
       " 'place of death',\n",
       " 'religion'}"
      ]
     },
     "execution_count": 61,
     "metadata": {},
     "output_type": "execute_result"
    }
   ],
   "source": [
    "keys"
   ]
  },
  {
   "cell_type": "code",
   "execution_count": 51,
   "metadata": {},
   "outputs": [
    {
     "name": "stdout",
     "output_type": "stream",
     "text": [
      "location 3776\n",
      "place of death 9885\n",
      "place of burial 257\n",
      "country 203127\n",
      "religion 759\n",
      "NA 469722\n",
      "capital 17088\n",
      "place of birth 21700\n"
     ]
    }
   ],
   "source": [
    "for key in keys:\n",
    "    print(key, wiki_relation[key])"
   ]
  },
  {
   "cell_type": "code",
   "execution_count": 62,
   "metadata": {},
   "outputs": [
    {
     "data": {
      "text/plain": [
       "{'capital',\n",
       " 'country',\n",
       " 'founder',\n",
       " 'location',\n",
       " 'place of birth',\n",
       " 'place of burial',\n",
       " 'place of death',\n",
       " 'religion'}"
      ]
     },
     "execution_count": 62,
     "metadata": {},
     "output_type": "execute_result"
    }
   ],
   "source": [
    "wiki_relation_map.values() & nyt_relation.keys()"
   ]
  },
  {
   "cell_type": "code",
   "execution_count": 54,
   "metadata": {},
   "outputs": [
    {
     "data": {
      "text/plain": [
       "{'NA': ['0'],\n",
       " 'administrative capital': ['4'],\n",
       " 'administrative divisions': ['49'],\n",
       " 'advisors': ['31'],\n",
       " 'capital': ['2', '3', '10', '12', '15', '26', '27', '41', '44', '47'],\n",
       " 'children': ['50'],\n",
       " 'companies advised': ['20'],\n",
       " 'company': ['29'],\n",
       " 'contains': ['48'],\n",
       " 'country': ['21', '24'],\n",
       " 'county seat': ['13'],\n",
       " 'ethnicity': ['33'],\n",
       " 'featured film locations': ['42'],\n",
       " 'featured in films': ['51'],\n",
       " 'founders': ['6'],\n",
       " 'geographic distribution': ['35'],\n",
       " 'included in group': ['25'],\n",
       " 'interred here': ['43'],\n",
       " 'judicial capital': ['19'],\n",
       " 'languages spoken': ['7'],\n",
       " 'legislative capital': ['16'],\n",
       " 'location': ['17', '38', '39', '52'],\n",
       " 'locations': ['22', '46'],\n",
       " 'major shareholders': ['37'],\n",
       " 'members': ['11'],\n",
       " 'nationality': ['28'],\n",
       " 'neighborhood of': ['1'],\n",
       " 'owner': ['32'],\n",
       " 'parent company': ['40'],\n",
       " 'people with this profession': ['14'],\n",
       " 'place founded': ['23'],\n",
       " 'place lived': ['36'],\n",
       " 'place of birth': ['8'],\n",
       " 'place of burial': ['34'],\n",
       " 'place of death': ['9'],\n",
       " 'profession': ['45'],\n",
       " 'religion': ['18'],\n",
       " 'shopping centers owned': ['30'],\n",
       " 'states provinces within': ['5']}"
      ]
     },
     "execution_count": 54,
     "metadata": {},
     "output_type": "execute_result"
    }
   ],
   "source": [
    "nyt_relation"
   ]
  },
  {
   "cell_type": "code",
   "execution_count": 56,
   "metadata": {},
   "outputs": [
    {
     "data": {
      "text/plain": [
       "False"
      ]
     },
     "execution_count": 56,
     "metadata": {},
     "output_type": "execute_result"
    }
   ],
   "source": [
    "'languages spoken' in wiki_relation_map.values()"
   ]
  },
  {
   "cell_type": "code",
   "execution_count": 58,
   "metadata": {},
   "outputs": [
    {
     "data": {
      "text/plain": [
       "'languages spoken or written'"
      ]
     },
     "execution_count": 58,
     "metadata": {},
     "output_type": "execute_result"
    }
   ],
   "source": [
    "wiki_relation_map['P1412']"
   ]
  },
  {
   "cell_type": "code",
   "execution_count": null,
   "metadata": {
    "collapsed": true
   },
   "outputs": [],
   "source": []
  },
  {
   "cell_type": "code",
   "execution_count": null,
   "metadata": {
    "collapsed": true
   },
   "outputs": [],
   "source": []
  },
  {
   "cell_type": "code",
   "execution_count": null,
   "metadata": {
    "collapsed": true
   },
   "outputs": [],
   "source": []
  }
 ],
 "metadata": {
  "kernelspec": {
   "display_name": "Python 3",
   "language": "python",
   "name": "python3"
  },
  "language_info": {
   "codemirror_mode": {
    "name": "ipython",
    "version": 3
   },
   "file_extension": ".py",
   "mimetype": "text/x-python",
   "name": "python",
   "nbconvert_exporter": "python",
   "pygments_lexer": "ipython3",
   "version": "3.6.1"
  }
 },
 "nbformat": 4,
 "nbformat_minor": 2
}
